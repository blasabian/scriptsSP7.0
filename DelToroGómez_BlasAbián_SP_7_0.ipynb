{
  "nbformat": 4,
  "nbformat_minor": 0,
  "metadata": {
    "colab": {
      "provenance": []
    },
    "kernelspec": {
      "name": "python3",
      "display_name": "Python 3"
    },
    "language_info": {
      "name": "python"
    }
  },
  "cells": [
    {
      "cell_type": "markdown",
      "source": [
        "\n",
        "\n",
        "1.   Dos motos viajan a diferentes velocidades (**vel1** y **vel2**) y están distanciados por una distancia **dis**. La moto que se encuentra detrás lleva una velocidad mayor que la primera. Se pide realizar un script en python que solicite al usuario la distancia entre las motos en km y las velocidades de las mismas y con ello devolver en cuanto tiempo la moto 2 alcanzará a la moto 1."
      ],
      "metadata": {
        "id": "yU4DEf3HBMru"
      }
    },
    {
      "cell_type": "code",
      "source": [
        "#Pedimos los datos\n",
        "vel1 = float(input(\"¿Qué velocidad tiene la primera moto? (km/h)\"))\n",
        "vel2 = float(input(\"¿Qué velocidad tiene la segunda moto? (km/h)\"))\n",
        "dis = float(input(\"¿A qué distancia se encuentra una de la otra? (h)\"))\n",
        "#Definimos la función\n",
        "def calculo(vel1,vel2,dis):\n",
        " if vel1 >= vel2: #En caso de que la moto 1 vaya más rápido que la moto 2\n",
        "  print(\"Las motos no se llegarán a alcanzar\")\n",
        " else: #De no ser así\n",
        "  t = dis/(vel2-vel1)\n",
        "  return (f\"La segunda moto alcanzará a la primera en {t} horas\")\n",
        "#Llamamos a la función\n",
        "calculo(vel1,vel2,dis)"
      ],
      "metadata": {
        "id": "cG3PaPs3EPfy"
      },
      "execution_count": null,
      "outputs": []
    },
    {
      "cell_type": "markdown",
      "source": [
        "2. El tutor de 2º ASIR esta organizando un viaje a Granada, y requiere determinar cuánto debe cobrar a cada alumne y cuánto debe pagar a la agencia de viajes. La forma de cobrar es la siguiente: si son 100 alumnos o más, el costo por cada alumno es de 65 euros; de 50 a 99 alumnos, el costo es de 70 euros, de 30 a 49, de 95 euros, y si son menos de 30, el costo de la guagua es de 4000 euros, sin importar el número de alumnos. Realice un script que permita determinar el pago a la compañía de guaguas y lo que debe pagar cada alumno por el viaje."
      ],
      "metadata": {
        "id": "bTX1b7swDmVd"
      }
    },
    {
      "cell_type": "code",
      "source": [
        "#Ingresamos el numero de alumnos\n",
        "alumnos = int(input(\"Ingrese la cantidad de alumnos: \"))\n",
        "#Comenzamos el condicional dependiendo del numero de alunmos, pues se pagará cierta cantidad de dinero.\n",
        "if alumnos >= 100:\n",
        "  print(f\"el pago de la agencia es de {alumnos*65} euros y cada alumno debe pagar 65 euros\")\n",
        "elif alumnos < 100 and alumnos >= 50:\n",
        "  print(f\"El pago a la agencia es de {alumnos*70} euros y cada alumno debe de pagar 70 euros\")\n",
        "elif alumnos < 50 and alumnos >=30:\n",
        "  print(f\"El pago a la agencia es de {alumnos*95} euros y cada alumno debe de pagar 95 euros\")\n",
        "else:\n",
        "  print(f\"El coste de la guagua es de 4000 euros y cada alumno debe pagar {int(4000/alumnos)} euros\")"
      ],
      "metadata": {
        "id": "1_orCltzEQhh"
      },
      "execution_count": null,
      "outputs": []
    },
    {
      "cell_type": "markdown",
      "source": [
        "3. Crea un script que permita adivinar un número. La aplicación genera un número aleatorio del 1 al 100. A continuación va pidiendo números y va respondiendo si el número a adivinar es mayor o menor que el introducido, además de los intentos que te quedan (tienes 10 intentos para acertarlo).  El programa termina cuando se acierta el número (además te dice en cuantos  intentos lo has acertado), si se llega al limite de intentos te muestra el  número que había generado."
      ],
      "metadata": {
        "id": "ksUYFjvcFhpq"
      }
    },
    {
      "cell_type": "code",
      "source": [
        "import random\n",
        "\n",
        "numero_secreto = random.randint(1, 100)\n",
        "intentos = 10\n",
        "\n",
        "# Pedimos al usuario y número y creamos las posibilidades\n",
        "print(\"Adivina el número entre 1 y 100. Tienes 10 intentos.\")\n",
        "\n",
        "while intentos > 0:\n",
        "    numero = int(input(\"Introduce un número: \"))\n",
        "\n",
        "    if numero == numero_secreto:\n",
        "        print(f\"¡Felicidades! Adivinaste el número en {10 - intentos + 1} intentos.\")\n",
        "        break\n",
        "    elif numero < numero_secreto:\n",
        "        print(\"El número secreto es mayor.\")\n",
        "    else:\n",
        "        print(\"El número secreto es menor.\")\n",
        "\n",
        "    intentos -= 1\n",
        "\n",
        "if intentos == 0:\n",
        "    print(f\"Te quedaste sin intentos. El número era {numero_secreto}.\")\n"
      ],
      "metadata": {
        "id": "ePA_F-ggERZq",
        "colab": {
          "base_uri": "https://localhost:8080/"
        },
        "outputId": "72717ce3-ebba-4eb3-cc68-c4cc00f78dde"
      },
      "execution_count": 4,
      "outputs": [
        {
          "output_type": "stream",
          "name": "stdout",
          "text": [
            "Adivina el número entre 1 y 100. Tienes 10 intentos.\n",
            "Introduce un número: 50\n",
            "El número secreto es menor.\n",
            "Introduce un número: 30\n",
            "El número secreto es menor.\n",
            "Introduce un número: 20\n",
            "El número secreto es mayor.\n",
            "Introduce un número: 10\n",
            "El número secreto es mayor.\n",
            "Introduce un número: 25\n",
            "El número secreto es menor.\n",
            "Introduce un número: 23\n",
            "El número secreto es menor.\n",
            "Introduce un número: 22\n",
            "¡Felicidades! Adivinaste el número en 7 intentos.\n"
          ]
        }
      ]
    },
    {
      "cell_type": "markdown",
      "source": [
        "4. Realizar un script que pida una String por teclado que contenga espacios y devuelva el número de palabrás que contenga"
      ],
      "metadata": {
        "id": "a8VUj4CxH5Lh"
      }
    },
    {
      "cell_type": "code",
      "source": [
        "#contar palabras en Python\n",
        "oracion = input(\"Ingrese una oración: \")\n",
        "palabras = oracion.split()\n",
        "numero_de_palabras = len(palabras)\n",
        "print(\"Número de palabras en la oración:\", numero_de_palabras)"
      ],
      "metadata": {
        "id": "XjlclapwESaJ"
      },
      "execution_count": null,
      "outputs": []
    },
    {
      "cell_type": "markdown",
      "source": [
        "5. Realiza un script que se le pasen 5 notas de un alumno por teclado (comprendidas entre 0 y 10). A continuación debe mostrar todas las notas, la nota media, la nota más alta que ha sacado y la menor.\n",
        "\n"
      ],
      "metadata": {
        "id": "hyvKdc75IXd5"
      }
    },
    {
      "cell_type": "code",
      "source": [
        "# Pedir 5 notas al usuario\n",
        "notas = [float(input(f\"Introduce la nota {i + 1} (0-10): \")) for i in range(5)]\n",
        "# Calcular la media, la nota más alta y la más baja\n",
        "nota_media = sum(notas) / len(notas)\n",
        "nota_maxima = max(notas)\n",
        "nota_minima = min(notas)\n",
        "# Mostrar resultados\n",
        "print(\"\\nNotas ingresadas:\", notas)\n",
        "print(f\"Nota media: {nota_media:.2f}\")\n",
        "print(f\"Nota más alta: {nota_maxima}\")\n",
        "print(f\"Nota más baja: {nota_minima}\")\n"
      ],
      "metadata": {
        "id": "nOgqvWORETFB"
      },
      "execution_count": null,
      "outputs": []
    },
    {
      "cell_type": "markdown",
      "source": [
        "6. Realizar un script que cree una una tabla bidimensional de 5x5 y nombre 'diagonal'. La Componentes de la tabla en su diagonales deben de ser 1 y el resto 0. Se ha de mostrar el contenido de la tabla por pantalla."
      ],
      "metadata": {
        "id": "ZQxqS603I8S1"
      }
    },
    {
      "cell_type": "code",
      "source": [
        "# Crear una tabla 5x5 con 0s\n",
        "diagonal = [[0 for _ in range(5)] for _ in range(5)]\n",
        "# Asignar 1 a las diagonales\n",
        "for i in range(5):\n",
        "      diagonal[i][i] = 1  # Diagonal principal\n",
        "      diagonal[i][4 - i] = 1  # Diagonal secundaria\n",
        "    # Mostrar la tabla\n",
        "for fila in diagonal:\n",
        "      print(\" \".join(map(str, fila)))"
      ],
      "metadata": {
        "id": "b1tXQaS0ETrp"
      },
      "execution_count": null,
      "outputs": []
    },
    {
      "cell_type": "markdown",
      "source": [
        "7. Crea un script que pida un número y cree un diccionario cuyas claves sean desde el número 1 hasta el número indicado, y los valores sean los cuadrados de las claves.\n",
        "\n"
      ],
      "metadata": {
        "id": "Ah0c0PB1Nw_d"
      }
    },
    {
      "cell_type": "code",
      "source": [
        "# Pedir un número al usuario\n",
        "num = int(input(\"Introduce un número: \"))\n",
        "# Crear el diccionario con claves del 1 al num y valores como su cuadrado\n",
        "diccionario = {i: i**2 for i in range(1, num + 1)}\n",
        "# Mostrar el diccionario\n",
        "print(diccionario)"
      ],
      "metadata": {
        "id": "OWcoMYqYEUez"
      },
      "execution_count": null,
      "outputs": []
    },
    {
      "cell_type": "markdown",
      "source": [
        "8. Crea un script de una agenda en la que se guardan nombres y números de teléfono. En la agenda existirá un menú con las siguientes opciones:\n",
        " * **Añadir/modificar**: Nos pide un nombre. Si el nombre se encuentra en la agenda, debe mostrar el teléfono y, opcionalmente, permitir modificarlo si no es correcto. Si el nombre no se encuentra, debe permitir ingresar el teléfono correspondiente.\n",
        " * **Buscar**: Nos pide una cadena de caracteres, y nos muestras todos los contactos cuyos nombres comiencen por dicha cadena.\n",
        " * **Borrar**: Nos pide un nombre y si existe nos preguntará si queremos borrarlo de la agenda.\n",
        " * **Listar**: Nos muestra todos los contactos de la agenda.\n",
        "\n",
        "  Implementar el script con un diccionario."
      ],
      "metadata": {
        "id": "6vqpqY3DJ88o"
      }
    },
    {
      "cell_type": "code",
      "source": [
        "  # Definimos la agenda como un diccionario vacío\n",
        "agenda = {}\n",
        "  #Creamos el mnu\n",
        "def mostrar_menu():\n",
        "        print(\"\\n--- Agenda Telefónica ---\")\n",
        "        print(\"1. Añadir/Modificar contacto\")\n",
        "        print(\"2. Buscar contacto\")\n",
        "        print(\"3. Borrar contacto\")\n",
        "        print(\"4. Listar contactos\")\n",
        "        print(\"5. Salir\")\n",
        "  #Comprobamos si el contacto existe y si no lo creamos\n",
        "def añadir_modificar_contacto():\n",
        "        nombre = input(\"Introduce el nombre del contacto: \")\n",
        "        if nombre in agenda:\n",
        "            print(f\"El número actual de {nombre} es: {agenda[nombre]}\")\n",
        "            modificar = input(\"¿Deseas modificarlo? (s/n): \").lower()\n",
        "            if modificar == 's':\n",
        "                telefono = input(\"Introduce el nuevo número de teléfono: \")\n",
        "                agenda[nombre] = telefono\n",
        "                print(\"Contacto modificado correctamente.\")\n",
        "        else:\n",
        "            telefono = input(\"Introduce el número de teléfono: \")\n",
        "            agenda[nombre] = telefono\n",
        "            print(\"Contacto añadido correctamente.\")\n",
        "  #Buscamos el contacto dentro del diccionario\n",
        "def buscar_contacto():\n",
        "        cadena = input(\"Introduce la cadena de búsqueda: \")\n",
        "        encontrados = {nombre: telefono for nombre, telefono in agenda.items() if nombre.startswith(cadena)}\n",
        "        if encontrados:\n",
        "            print(\"\\nContactos encontrados:\")\n",
        "            for nombre, telefono in encontrados.items():\n",
        "                print(f\"{nombre}: {telefono}\")\n",
        "        else:\n",
        "            print(\"No se encontraron contactos que coincidan con la búsqueda.\")\n",
        "  #Borramso el contacto\n",
        "def borrar_contacto():\n",
        "        nombre = input(\"Introduce el nombre del contacto a borrar: \")\n",
        "        if nombre in agenda:\n",
        "            confirmar = input(f\"¿Estás seguro de borrar a {nombre}? (s/n): \").lower()\n",
        "            if confirmar == 's':\n",
        "                del agenda[nombre]\n",
        "                print(\"Contacto borrado correctamente.\")\n",
        "        else:\n",
        "            print(\"El contacto no existe en la agenda.\")\n",
        "  #Listamos los contactos dentro del array\n",
        "def listar_contactos():\n",
        "        if agenda:\n",
        "            print(\"\\nLista de contactos:\")\n",
        "            for nombre, telefono in agenda.items():\n",
        "                print(f\"{nombre}: {telefono}\")\n",
        "        else:\n",
        "            print(\"La agenda está vacía.\")\n",
        "  #Mostramos el menú\n",
        "def main():\n",
        "        opcion = ''\n",
        "        while opcion != '5':\n",
        "            mostrar_menu()\n",
        "            opcion = input(\"Selecciona una opción (1-5): \")\n",
        "            if opcion == '1':\n",
        "                añadir_modificar_contacto()\n",
        "            elif opcion == '2':\n",
        "                buscar_contacto()\n",
        "            elif opcion == '3':\n",
        "                borrar_contacto()\n",
        "            elif opcion == '4':\n",
        "                listar_contactos()\n",
        "            elif opcion == '5':\n",
        "                print(\"Saliendo de la agenda...\")\n",
        "            else:\n",
        "                print(\"Opción no válida. Inténtalo de nuevo.\")\n",
        "\n",
        "if __name__ == \"__main__\":\n",
        "        main()\n"
      ],
      "metadata": {
        "id": "GexEhTmSEVT4"
      },
      "execution_count": null,
      "outputs": []
    },
    {
      "cell_type": "markdown",
      "source": [
        "9. Crear un script que al introducir una fecha nos diga a que día juliano corresponde. El día juliano correspondiente a una fecha es un número entero que indica los días que han transcurrido desde el 1 de enero.Para ello debes de hacer las siguientes funciones:\n",
        " * **LeerFecha**: Lee por teclado el día, mes y el año.\n",
        " * **DiasDelMes**: Recibe un mes y un año y devuelve el número de días\n",
        " * **EsBisiesto**: Recibido un año nos dice si es bisiesto o no.\n",
        " * **Calcular_Dia_Juliano**: Recibe una fecha y nos devuelve el día juliano."
      ],
      "metadata": {
        "id": "-PHluINDPCH5"
      }
    },
    {
      "cell_type": "code",
      "source": [
        "def leer_fecha():\n",
        "     \"\"\"Lee el día, mes y año desde el teclado.\"\"\"\n",
        "     dia = int(input(\"Introduce el día: \"))\n",
        "     mes = int(input(\"Introduce el mes: \"))\n",
        "     año = int(input(\"Introduce el año: \"))\n",
        "     return dia, mes, año\n",
        "def dias_del_mes(mes, año):\n",
        "     \"\"\"Devuelve el número de días de un mes en un año dado.\"\"\"\n",
        "     if mes in [4, 6, 9, 11]:  # Abril, junio, septiembre, noviembre\n",
        "         return 30\n",
        "     elif mes == 2:  # Febrero\n",
        "         return 29 if es_bisiesto(año) else 28\n",
        "     else:  # Enero, marzo, mayo, julio, agosto, octubre, diciembre\n",
        "         return 31\n",
        "def es_bisiesto(año):\n",
        "       \"\"\"Determina si un año es bisiesto.\"\"\"\n",
        "       return (año % 4 == 0 and año % 100 != 0) or (año % 400 == 0)\n",
        "def calcular_dia_juliano(dia, mes, año):\n",
        "     \"\"\"Calcula el día juliano de una fecha dada.\"\"\"\n",
        "     dia_juliano = sum(dias_del_mes(m, año) for m in range(1, mes)) + dia\n",
        "     return dia_juliano\n",
        "\n",
        "  # Programa principal\n",
        "dia, mes, año = leer_fecha()\n",
        "dia_juliano = calcular_dia_juliano(dia, mes, año)\n",
        "print(f\"El día juliano de la fecha {dia}/{mes}/{año} es: {dia_juliano}\")"
      ],
      "metadata": {
        "id": "EbNdAbeBEV5g",
        "colab": {
          "base_uri": "https://localhost:8080/"
        },
        "outputId": "40330ab8-d2ef-4cbe-beb7-df80a2ab5928"
      },
      "execution_count": 5,
      "outputs": [
        {
          "output_type": "stream",
          "name": "stdout",
          "text": [
            "Introduce el día: 21\n",
            "Introduce el mes: 11\n",
            "Introduce el año: 2004\n",
            "El día juliano de la fecha 21/11/2004 es: 326\n"
          ]
        }
      ]
    },
    {
      "cell_type": "markdown",
      "source": [
        "\n",
        "10. Función CalcularMCD: Recibe dos números y devuelve el MCD utilizando el método de Euclides.\n",
        "El método de Euclides es el siguiente:\n",
        " * Se divide el número mayor entre el menor.\n",
        " * Si la división es exacta, el divisor es el MCD.\n",
        " * Si la división no es exacta, dividimos el divisor entre el resto obtenido y se continúa de esta forma hasta obtener una división exacta, siendo el último divisor el MCD.\n"
      ],
      "metadata": {
        "id": "xQCJ8l2QPU3m"
      }
    },
    {
      "cell_type": "code",
      "source": [
        "def CalcularMCD(a, b):\n",
        "     \"\"\"Calcula el MCD usando el método de Euclides.\"\"\"\n",
        "     while b != 0:\n",
        "        a, b = b, a % b\n",
        "     return a\n",
        "    # Pedir dos números al usuario\n",
        "num1 = int(input(\"Introduce el primer número: \"))\n",
        "num2 = int(input(\"Introduce el segundo número: \"))\n",
        "    # Calcular y mostrar el MCD\n",
        "print(f\"El MCD de {num1} y {num2} es: {CalcularMCD(num1, num2)}\")"
      ],
      "metadata": {
        "id": "KZWQBYhdEWow"
      },
      "execution_count": null,
      "outputs": []
    }
  ]
}